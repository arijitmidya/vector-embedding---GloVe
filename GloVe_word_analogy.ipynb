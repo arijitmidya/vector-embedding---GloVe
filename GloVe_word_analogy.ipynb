{
  "nbformat": 4,
  "nbformat_minor": 0,
  "metadata": {
    "colab": {
      "provenance": []
    },
    "kernelspec": {
      "name": "python3",
      "display_name": "Python 3"
    },
    "language_info": {
      "name": "python"
    }
  },
  "cells": [
    {
      "cell_type": "code",
      "execution_count": 10,
      "metadata": {
        "id": "q6eEx7ldN8qW"
      },
      "outputs": [],
      "source": [
        "import gensim.downloader as api\n",
        "from sklearn.metrics.pairwise import cosine_similarity"
      ]
    },
    {
      "cell_type": "code",
      "source": [
        "# Download the GloVe model\n",
        "\n",
        "model = api.load('glove-wiki-gigaword-300')"
      ],
      "metadata": {
        "colab": {
          "base_uri": "https://localhost:8080/"
        },
        "id": "s_yChYdeO9fy",
        "outputId": "00d75725-2376-4565-de8e-c16beff2760c"
      },
      "execution_count": 3,
      "outputs": [
        {
          "output_type": "stream",
          "name": "stdout",
          "text": [
            "[==================================================] 100.0% 376.1/376.1MB downloaded\n"
          ]
        }
      ]
    },
    {
      "cell_type": "code",
      "source": [
        "result = model.most_similar(positive = ['woman','king'], negative = ['man'],topn = 1)\n",
        "print(result)"
      ],
      "metadata": {
        "colab": {
          "base_uri": "https://localhost:8080/"
        },
        "id": "znRLyDlSSoR9",
        "outputId": "72297a12-5b9e-4a76-fcb3-05e78364ddc7"
      },
      "execution_count": 15,
      "outputs": [
        {
          "output_type": "stream",
          "name": "stdout",
          "text": [
            "[('queen', 0.6713277101516724)]\n"
          ]
        }
      ]
    },
    {
      "cell_type": "code",
      "source": [
        "result = model.most_similar(positive=['happy'], negative=['sad'], topn=5)\n",
        "print(result)"
      ],
      "metadata": {
        "colab": {
          "base_uri": "https://localhost:8080/"
        },
        "id": "Bu-w8fRmTdQ6",
        "outputId": "434cb07b-daae-41da-a98e-c92136c3560b"
      },
      "execution_count": 16,
      "outputs": [
        {
          "output_type": "stream",
          "name": "stdout",
          "text": [
            "[('stay', 0.3546355962753296), ('sure', 0.3539005219936371), ('keep', 0.3493928909301758), ('enjoying', 0.3469257354736328), ('staying', 0.34394127130508423)]\n"
          ]
        }
      ]
    },
    {
      "cell_type": "code",
      "source": [
        "result = model.most_similar(positive=['apple', 'mango'], topn=5)\n",
        "print(result)"
      ],
      "metadata": {
        "colab": {
          "base_uri": "https://localhost:8080/"
        },
        "id": "LHvb203FTjJg",
        "outputId": "2c0ce8bd-a5d3-4f05-bfc3-e0962bed745f"
      },
      "execution_count": 17,
      "outputs": [
        {
          "output_type": "stream",
          "name": "stdout",
          "text": [
            "[('pineapple', 0.61258864402771), ('fruit', 0.5988284945487976), ('papaya', 0.5967867970466614), ('peach', 0.5937280058860779), ('pear', 0.5832160115242004)]\n"
          ]
        }
      ]
    },
    {
      "cell_type": "code",
      "source": [
        "result = model.most_similar(positive=['cat', 'dog', 'bird'], topn=5)\n",
        "print(result)"
      ],
      "metadata": {
        "colab": {
          "base_uri": "https://localhost:8080/"
        },
        "id": "_GdJa7n5TuzA",
        "outputId": "4f151d44-4d36-42f2-bca4-4c31debbdb13"
      },
      "execution_count": 18,
      "outputs": [
        {
          "output_type": "stream",
          "name": "stdout",
          "text": [
            "[('dogs', 0.6785032749176025), ('cats', 0.646368682384491), ('pet', 0.6276819705963135), ('animal', 0.6069138646125793), ('birds', 0.5651960372924805)]\n"
          ]
        }
      ]
    },
    {
      "cell_type": "code",
      "source": [
        "result = model.most_similar(positive=['happy', 'joyful', 'cheerful'], topn=5)\n",
        "print(result)"
      ],
      "metadata": {
        "colab": {
          "base_uri": "https://localhost:8080/"
        },
        "id": "SJPTumPyT1U8",
        "outputId": "a9efb2bc-6b49-46a9-e2d9-9ceb6f1be8c6"
      },
      "execution_count": 19,
      "outputs": [
        {
          "output_type": "stream",
          "name": "stdout",
          "text": [
            "[('joyous', 0.7228434681892395), ('cheery', 0.6233131885528564), ('wonderful', 0.5633585453033447), ('exuberant', 0.558188259601593), ('excited', 0.5559387803077698)]\n"
          ]
        }
      ]
    },
    {
      "cell_type": "code",
      "source": [
        "result = model.most_similar(positive=['blue', 'sky'], negative=['red'], topn=1)\n",
        "print(result)"
      ],
      "metadata": {
        "colab": {
          "base_uri": "https://localhost:8080/"
        },
        "id": "tblTlWCwT7BM",
        "outputId": "3fc0672f-02a2-47f8-80f1-a3718463d45d"
      },
      "execution_count": 20,
      "outputs": [
        {
          "output_type": "stream",
          "name": "stdout",
          "text": [
            "[('skies', 0.5611391067504883)]\n"
          ]
        }
      ]
    },
    {
      "cell_type": "code",
      "source": [
        "result = model.most_similar(positive=['chocolate', 'coffee', 'tea'], topn=5)\n",
        "print(result)"
      ],
      "metadata": {
        "colab": {
          "base_uri": "https://localhost:8080/"
        },
        "id": "xebQPlWEUEHv",
        "outputId": "a6714de2-5dc8-4cdd-b694-6e37c7273788"
      },
      "execution_count": 21,
      "outputs": [
        {
          "output_type": "stream",
          "name": "stdout",
          "text": [
            "[('drinks', 0.6327710151672363), ('drink', 0.6159959435462952), ('cream', 0.6061286926269531), ('espresso', 0.6030125617980957), ('dessert', 0.5836726427078247)]\n"
          ]
        }
      ]
    },
    {
      "cell_type": "code",
      "source": [
        "result = model.most_similar(positive=['book', 'read'], negative=['page'], topn=3)\n",
        "print(result)"
      ],
      "metadata": {
        "colab": {
          "base_uri": "https://localhost:8080/"
        },
        "id": "Cpg7okrnUMWc",
        "outputId": "dcf5462e-ab05-4790-f05d-0fffdb39bd1c"
      },
      "execution_count": 22,
      "outputs": [
        {
          "output_type": "stream",
          "name": "stdout",
          "text": [
            "[('books', 0.6530472636222839), ('reading', 0.5880340933799744), ('novel', 0.5676084756851196)]\n"
          ]
        }
      ]
    },
    {
      "cell_type": "code",
      "source": [
        "result = model.most_similar(positive=['life', 'meaning'], negative=['death'], topn=5)\n",
        "print(result)"
      ],
      "metadata": {
        "colab": {
          "base_uri": "https://localhost:8080/"
        },
        "id": "l1yOSfGbUTIA",
        "outputId": "a4c2c708-d88e-485b-92eb-ed3d7a65134c"
      },
      "execution_count": 23,
      "outputs": [
        {
          "output_type": "stream",
          "name": "stdout",
          "text": [
            "[('means', 0.6323608756065369), ('word', 0.5340149402618408), ('hence', 0.5253849625587463), ('literally', 0.5206667184829712), ('derived', 0.49633359909057617)]\n"
          ]
        }
      ]
    },
    {
      "cell_type": "code",
      "source": [],
      "metadata": {
        "id": "riv5VSGWUX46"
      },
      "execution_count": null,
      "outputs": []
    }
  ]
}