{
  "nbformat": 4,
  "nbformat_minor": 0,
  "metadata": {
    "colab": {
      "provenance": []
    },
    "kernelspec": {
      "name": "python3",
      "display_name": "Python 3"
    },
    "language_info": {
      "name": "python"
    }
  },
  "cells": [
    {
      "cell_type": "code",
      "execution_count": 10,
      "metadata": {
        "id": "q6eEx7ldN8qW"
      },
      "outputs": [],
      "source": [
        "import gensim.downloader as api\n",
        "from sklearn.metrics.pairwise import cosine_similarity"
      ]
    },
    {
      "cell_type": "code",
      "source": [
        "# Download the GloVe model\n",
        "\n",
        "model = api.load('glove-wiki-gigaword-300')"
      ],
      "metadata": {
        "colab": {
          "base_uri": "https://localhost:8080/"
        },
        "id": "s_yChYdeO9fy",
        "outputId": "00d75725-2376-4565-de8e-c16beff2760c"
      },
      "execution_count": 3,
      "outputs": [
        {
          "output_type": "stream",
          "name": "stdout",
          "text": [
            "[==================================================] 100.0% 376.1/376.1MB downloaded\n"
          ]
        }
      ]
    },
    {
      "cell_type": "code",
      "source": [
        "print(len(model['orange']))"
      ],
      "metadata": {
        "colab": {
          "base_uri": "https://localhost:8080/"
        },
        "id": "f6NQ0q63PFI-",
        "outputId": "644faa0e-b57f-42a1-fb00-cc10bd428b10"
      },
      "execution_count": 4,
      "outputs": [
        {
          "output_type": "stream",
          "name": "stdout",
          "text": [
            "300\n"
          ]
        }
      ]
    },
    {
      "cell_type": "code",
      "source": [
        "model['orange']"
      ],
      "metadata": {
        "colab": {
          "base_uri": "https://localhost:8080/"
        },
        "id": "yHsgWssvQ5an",
        "outputId": "07755ad8-99b3-4678-c6bb-46105ae6b766"
      },
      "execution_count": 5,
      "outputs": [
        {
          "output_type": "execute_result",
          "data": {
            "text/plain": [
              "array([-0.24776  , -0.12359  ,  0.20986  , -0.15834  , -0.15827  ,\n",
              "       -0.90116  , -0.095702 , -0.23005  ,  0.27094  , -0.18885  ,\n",
              "       -0.6094   , -0.29146  , -0.14547  , -0.17566  ,  0.7757   ,\n",
              "        0.23427  , -0.7334   , -0.34034  , -0.56997  , -0.046918 ,\n",
              "        0.024907 , -0.18274  ,  0.14792  ,  0.18595  , -0.046665 ,\n",
              "       -0.55657  , -0.38182  ,  0.21155  , -1.1388   ,  0.24632  ,\n",
              "       -0.2749   , -0.21952  , -0.69771  ,  0.05891  , -0.37058  ,\n",
              "        1.0525   , -0.19563  , -0.17864  , -0.24309  ,  0.021318 ,\n",
              "       -0.055165 , -0.27761  , -0.21785  ,  0.52323  ,  0.16326  ,\n",
              "       -0.54557  ,  0.0014319, -0.087846 ,  0.61443  , -0.72582  ,\n",
              "       -0.061206 ,  0.35182  ,  0.55001  , -0.67038  , -0.060339 ,\n",
              "       -0.0018221, -0.28547  , -0.36713  ,  0.66334  , -0.83004  ,\n",
              "       -0.26006  , -0.39763  , -0.38772  ,  0.41361  ,  0.22863  ,\n",
              "       -0.6484   , -0.14765  , -0.13465  , -0.18154  , -0.54855  ,\n",
              "       -0.0749   ,  0.21009  ,  0.055898 ,  0.54107  , -0.53956  ,\n",
              "       -0.28911  , -0.062195 ,  0.033496 , -0.27442  , -0.24379  ,\n",
              "        0.60123  ,  0.33735  , -0.45934  ,  0.22089  ,  0.28856  ,\n",
              "       -0.54551  ,  0.034183 ,  0.48993  ,  0.038962 , -0.045273 ,\n",
              "        0.1544   , -0.3798   , -0.11647  ,  0.061435 , -0.43743  ,\n",
              "        0.77289  ,  0.31942  , -0.069738 ,  0.023407 ,  0.10732  ,\n",
              "       -0.089489 , -0.10486  ,  0.042569 , -0.026284 ,  0.33343  ,\n",
              "        0.21235  ,  0.07399  ,  0.18305  , -0.50787  ,  0.11003  ,\n",
              "       -0.41798  ,  0.10016  ,  0.51145  ,  0.036357 ,  0.049747 ,\n",
              "       -0.25304  , -0.11242  ,  0.84524  , -0.098083 , -0.44179  ,\n",
              "        0.35958  , -0.65623  ,  0.39122  , -0.35646  , -0.79987  ,\n",
              "       -0.055275 , -0.038645 ,  0.43572  ,  0.071285 ,  0.44192  ,\n",
              "       -0.40933  ,  0.026579 , -0.55951  ,  0.18181  , -0.16561  ,\n",
              "       -0.17277  , -0.20476  , -0.47509  ,  0.19047  ,  0.025337 ,\n",
              "        0.56109  ,  0.23522  , -0.048615 ,  0.020294 ,  0.15802  ,\n",
              "        0.45451  , -0.23932  ,  0.068622 ,  0.50821  , -0.24706  ,\n",
              "        0.80493  ,  0.054989 ,  0.46609  , -0.18083  ,  0.73783  ,\n",
              "       -0.27206  ,  0.26418  , -0.49461  , -0.024973 ,  0.19331  ,\n",
              "       -0.37615  ,  0.33468  , -0.24353  ,  0.18171  ,  0.041497 ,\n",
              "       -0.063388 ,  0.036015 ,  0.28952  , -0.52935  , -0.063903 ,\n",
              "        0.69211  ,  0.1215   , -0.62731  ,  0.26627  ,  0.36438  ,\n",
              "       -0.77108  ,  0.40561  , -0.3078   ,  0.55919  , -0.32124  ,\n",
              "       -0.14276  ,  0.070346 ,  0.19114  , -0.3929   ,  0.004516 ,\n",
              "       -0.73871  ,  0.8074   ,  0.1354   , -0.12414  , -0.79568  ,\n",
              "        0.058827 ,  0.48552  , -0.2902   , -0.11301  ,  0.018115 ,\n",
              "       -0.16892  , -0.42663  , -0.2062   , -0.21115  ,  0.42126  ,\n",
              "        0.91802  ,  0.07018  , -0.010133 , -0.16455  ,  0.21174  ,\n",
              "        0.14027  ,  0.52289  ,  0.75919  ,  0.050752 ,  0.75467  ,\n",
              "       -0.007933 ,  0.23611  , -0.68522  , -0.42567  ,  0.34091  ,\n",
              "        0.020985 ,  1.0518   , -0.031345 , -0.086061 , -0.57768  ,\n",
              "        1.3026   , -0.37067  , -0.35319  ,  0.052281 , -0.16382  ,\n",
              "       -0.46568  , -0.10996  , -0.42071  , -0.50616  , -0.50337  ,\n",
              "       -0.31583  ,  0.47216  , -0.053558 ,  0.15372  ,  0.31001  ,\n",
              "       -0.10349  ,  0.17909  , -0.32471  , -0.16194  , -0.53479  ,\n",
              "       -0.13764  , -0.71118  ,  0.18695  ,  0.16932  , -0.73799  ,\n",
              "        0.037364 ,  1.0209   , -0.42802  ,  0.13443  , -0.35761  ,\n",
              "        0.39819  ,  0.43802  , -0.16397  , -0.15303  ,  0.27137  ,\n",
              "       -0.5281   ,  0.31447  , -0.11779  ,  0.2753   , -0.20477  ,\n",
              "        0.19547  ,  0.14832  ,  0.7838   , -0.34746  , -0.5382   ,\n",
              "       -0.74684  , -0.30637  , -0.23923  , -0.1677   ,  0.30751  ,\n",
              "       -0.11028  , -0.0076799, -0.21395  , -0.055122 , -0.44104  ,\n",
              "        0.13752  , -1.3948   , -0.11891  , -0.36035  ,  0.051432 ,\n",
              "        0.0089858, -0.029622 , -0.20384  , -0.235    , -0.065453 ,\n",
              "        0.54828  , -0.33196  , -0.11157  , -0.0050479,  0.13196  ,\n",
              "        0.33844  , -0.15593  , -0.10277  , -0.082953 ,  0.43793  ,\n",
              "       -0.22457  ,  0.31513  ,  0.079717 ,  0.23865  , -0.014213 ],\n",
              "      dtype=float32)"
            ]
          },
          "metadata": {},
          "execution_count": 5
        }
      ]
    },
    {
      "cell_type": "code",
      "source": [
        "model.most_similar('tree' , topn=5)"
      ],
      "metadata": {
        "colab": {
          "base_uri": "https://localhost:8080/"
        },
        "id": "UGk0wOBeRA39",
        "outputId": "f53d3b67-4dbe-4845-b5cf-88737e9b4ec3"
      },
      "execution_count": 7,
      "outputs": [
        {
          "output_type": "execute_result",
          "data": {
            "text/plain": [
              "[('trees', 0.8235682249069214),\n",
              " ('pine', 0.5284950137138367),\n",
              " ('oak', 0.5163030028343201),\n",
              " ('shrubs', 0.4892760217189789),\n",
              " ('planted', 0.4848930835723877)]"
            ]
          },
          "metadata": {},
          "execution_count": 7
        }
      ]
    },
    {
      "cell_type": "code",
      "source": [
        "model.similarity('banana' , 'mango')"
      ],
      "metadata": {
        "colab": {
          "base_uri": "https://localhost:8080/"
        },
        "id": "OERCNRrkRH4D",
        "outputId": "cbf27693-f2b7-4eff-87ca-5737e0db83fe"
      },
      "execution_count": 8,
      "outputs": [
        {
          "output_type": "execute_result",
          "data": {
            "text/plain": [
              "0.58041036"
            ]
          },
          "metadata": {},
          "execution_count": 8
        }
      ]
    },
    {
      "cell_type": "code",
      "source": [
        "model.similarity('king' , 'queen')"
      ],
      "metadata": {
        "colab": {
          "base_uri": "https://localhost:8080/"
        },
        "id": "qMoDxy44RU6L",
        "outputId": "fb82288b-6dd2-4636-eca1-9e7a40c620fa"
      },
      "execution_count": 9,
      "outputs": [
        {
          "output_type": "execute_result",
          "data": {
            "text/plain": [
              "0.6336469"
            ]
          },
          "metadata": {},
          "execution_count": 9
        }
      ]
    },
    {
      "cell_type": "code",
      "source": [
        "def odd_one_out(words, word_vectors):\n",
        "\n",
        "    word_to_index = {word: i for i, word in enumerate(words)}\n",
        "\n",
        "    odd_one_out = None\n",
        "    max_avg_dist = 0  # Initialize with 0\n",
        "\n",
        "    for w1 in words:\n",
        "        total_dist = 0\n",
        "        for w2 in words:\n",
        "            if w1 != w2:\n",
        "                dist = 1 - cosine_similarity([word_vectors[word_to_index[w1]]], [word_vectors[word_to_index[w2]]])[0][0]  # Calculate distance (1 - similarity)\n",
        "                total_dist += dist\n",
        "\n",
        "        avg_dist = total_dist / (len(words) - 1)  # Average distance from other words\n",
        "\n",
        "        if avg_dist > max_avg_dist:\n",
        "            max_avg_dist = avg_dist\n",
        "            odd_one_out = w1\n",
        "\n",
        "    return odd_one_out"
      ],
      "metadata": {
        "id": "OCjHaC1zRZAe"
      },
      "execution_count": 11,
      "outputs": []
    },
    {
      "cell_type": "code",
      "source": [
        "list_of_words = [\"trees\",\"pine\",\"oak\",\"orange\",\"planted\"]\n",
        "word_vectors = [model['trees'] , model['pine'] , model['oak'] , model['orange'] , model['planted']]"
      ],
      "metadata": {
        "id": "n_skzNbIRxrj"
      },
      "execution_count": 13,
      "outputs": []
    },
    {
      "cell_type": "code",
      "source": [
        "import numpy as np\n",
        "print(odd_one_out(list_of_words,word_vectors))"
      ],
      "metadata": {
        "colab": {
          "base_uri": "https://localhost:8080/"
        },
        "id": "X7yAQDb5SUWR",
        "outputId": "ad2c0243-005c-4cbd-ae44-7aa169848407"
      },
      "execution_count": 14,
      "outputs": [
        {
          "output_type": "stream",
          "name": "stdout",
          "text": [
            "orange\n"
          ]
        }
      ]
    },
    {
      "cell_type": "code",
      "source": [],
      "metadata": {
        "id": "znRLyDlSSoR9"
      },
      "execution_count": null,
      "outputs": []
    }
  ]
}